{
 "cells": [
  {
   "cell_type": "code",
   "execution_count": 10,
   "metadata": {},
   "outputs": [],
   "source": [
    "import numpy as np\n",
    "import pandas as pd\n",
    "\n",
    "import logging "
   ]
  },
  {
   "cell_type": "markdown",
   "metadata": {},
   "source": [
    "# Storage"
   ]
  },
  {
   "cell_type": "code",
   "execution_count": 45,
   "metadata": {},
   "outputs": [],
   "source": [
    "def create_board(board_length):\n",
    "    board_field = np.zeros((board_length, board_length), dtype=bool) \n",
    "    board_status = np.zeros_like(board)\n",
    "    return {\"board_field\": board_field, \"board_status\": board_status, \"board_length\": board_length}\n",
    "\n",
    "def place_ships(board, ships):\n",
    "    # Retrieve board information \n",
    "    board_length = board[\"board_length\"]\n",
    "    board_field = board[\"board_field\"]\n",
    "\n",
    "    for ship in ships:\n",
    "        x = ship[\"x\"]\n",
    "        y = ship[\"y\"]\n",
    "        ship_length = ship[\"length\"] \n",
    "        vertical = ship[\"vertical\"]\n",
    "\n",
    "        # Check basic coordinate compatibility \n",
    "        try:\n",
    "            assert type(x) == int\n",
    "            assert type(y) == int \n",
    "            assert x in range(board_length)\n",
    "            assert y in range(board_length)\n",
    "        except Exception: \n",
    "            raise ValueError(\"Ship coordinates are not compatible coordinates within the board!\") \n",
    "\n",
    "        # Check for border adherence \n",
    "        try:\n",
    "            max_extend = (x + ship_length) * vertical + (y + ship_length) * (1 - vertical) - 1\n",
    "            assert max_extend < board_length\n",
    "        except Exception:\n",
    "            raise ValueError(\"Ship coordinates and length do not confine with the board!\")\n",
    "\n",
    "        # Check for overlapping \n",
    "        board_update = np.zeros_like(board_field) \n",
    "        if vertical:\n",
    "            board_update[y, x:(x + ship_length)] = 1\n",
    "        else:\n",
    "            board_update[y:(y + ship_length), x] = 1 \n",
    "\n",
    "        try: \n",
    "            assert ~np.any(board_field * board_update)\n",
    "        except Exception:\n",
    "            raise ValueError(\"Ship overlaps with another ship!\")\n",
    "        \n",
    "        # Place ship \n",
    "        board_field = board_field + board_update \n",
    "\n",
    "    return board_field"
   ]
  },
  {
   "cell_type": "markdown",
   "metadata": {},
   "source": [
    "## Test board"
   ]
  },
  {
   "cell_type": "code",
   "execution_count": 48,
   "metadata": {},
   "outputs": [
    {
     "ename": "ValueError",
     "evalue": "Ship coordinates are not compatible coordinates within the board!",
     "output_type": "error",
     "traceback": [
      "\u001b[1;31m---------------------------------------------------------------------------\u001b[0m",
      "\u001b[1;31mAssertionError\u001b[0m                            Traceback (most recent call last)",
      "\u001b[1;32mg:\\My Drive\\Sonstiges\\Projects\\Battleship-AI\\gameboard\\board.ipynb Cell 5\u001b[0m line \u001b[0;36m1\n\u001b[0;32m     <a href='vscode-notebook-cell:/g%3A/My%20Drive/Sonstiges/Projects/Battleship-AI/gameboard/board.ipynb#W6sZmlsZQ%3D%3D?line=17'>18</a>\u001b[0m \u001b[39mtry\u001b[39;00m:\n\u001b[1;32m---> <a href='vscode-notebook-cell:/g%3A/My%20Drive/Sonstiges/Projects/Battleship-AI/gameboard/board.ipynb#W6sZmlsZQ%3D%3D?line=18'>19</a>\u001b[0m     \u001b[39massert\u001b[39;00m \u001b[39mtype\u001b[39m(x) \u001b[39m==\u001b[39m \u001b[39mint\u001b[39m\n\u001b[0;32m     <a href='vscode-notebook-cell:/g%3A/My%20Drive/Sonstiges/Projects/Battleship-AI/gameboard/board.ipynb#W6sZmlsZQ%3D%3D?line=19'>20</a>\u001b[0m     \u001b[39massert\u001b[39;00m \u001b[39mtype\u001b[39m(y) \u001b[39m==\u001b[39m \u001b[39mint\u001b[39m \n",
      "\u001b[1;31mAssertionError\u001b[0m: ",
      "\nDuring handling of the above exception, another exception occurred:\n",
      "\u001b[1;31mValueError\u001b[0m                                Traceback (most recent call last)",
      "\u001b[1;32mg:\\My Drive\\Sonstiges\\Projects\\Battleship-AI\\gameboard\\board.ipynb Cell 5\u001b[0m line \u001b[0;36m1\n\u001b[0;32m     <a href='vscode-notebook-cell:/g%3A/My%20Drive/Sonstiges/Projects/Battleship-AI/gameboard/board.ipynb#W6sZmlsZQ%3D%3D?line=10'>11</a>\u001b[0m \u001b[39m# ships.append(ship_1) # Should work \u001b[39;00m\n\u001b[0;32m     <a href='vscode-notebook-cell:/g%3A/My%20Drive/Sonstiges/Projects/Battleship-AI/gameboard/board.ipynb#W6sZmlsZQ%3D%3D?line=11'>12</a>\u001b[0m \u001b[39m# ships.append(ship_2) # Should work\u001b[39;00m\n\u001b[0;32m     <a href='vscode-notebook-cell:/g%3A/My%20Drive/Sonstiges/Projects/Battleship-AI/gameboard/board.ipynb#W6sZmlsZQ%3D%3D?line=12'>13</a>\u001b[0m \u001b[39m# ships.append(ship_3) # Raise ValueError (borders)\u001b[39;00m\n\u001b[0;32m     <a href='vscode-notebook-cell:/g%3A/My%20Drive/Sonstiges/Projects/Battleship-AI/gameboard/board.ipynb#W6sZmlsZQ%3D%3D?line=13'>14</a>\u001b[0m \u001b[39m# ships.append(ship_4) # Raise ValueError (overlapping)\u001b[39;00m\n\u001b[0;32m     <a href='vscode-notebook-cell:/g%3A/My%20Drive/Sonstiges/Projects/Battleship-AI/gameboard/board.ipynb#W6sZmlsZQ%3D%3D?line=14'>15</a>\u001b[0m \u001b[39m# ships.append(ship_5) # Raise ValueError (coordinates)\u001b[39;00m\n\u001b[0;32m     <a href='vscode-notebook-cell:/g%3A/My%20Drive/Sonstiges/Projects/Battleship-AI/gameboard/board.ipynb#W6sZmlsZQ%3D%3D?line=15'>16</a>\u001b[0m ships\u001b[39m.\u001b[39mappend(ship_6) \u001b[39m# Raise ValueError (coordinates)\u001b[39;00m\n\u001b[1;32m---> <a href='vscode-notebook-cell:/g%3A/My%20Drive/Sonstiges/Projects/Battleship-AI/gameboard/board.ipynb#W6sZmlsZQ%3D%3D?line=17'>18</a>\u001b[0m place_ships(board, ships)\n",
      "\u001b[1;32mg:\\My Drive\\Sonstiges\\Projects\\Battleship-AI\\gameboard\\board.ipynb Cell 5\u001b[0m line \u001b[0;36m2\n\u001b[0;32m     <a href='vscode-notebook-cell:/g%3A/My%20Drive/Sonstiges/Projects/Battleship-AI/gameboard/board.ipynb#W6sZmlsZQ%3D%3D?line=21'>22</a>\u001b[0m     \u001b[39massert\u001b[39;00m y \u001b[39min\u001b[39;00m \u001b[39mrange\u001b[39m(board_length)\n\u001b[0;32m     <a href='vscode-notebook-cell:/g%3A/My%20Drive/Sonstiges/Projects/Battleship-AI/gameboard/board.ipynb#W6sZmlsZQ%3D%3D?line=22'>23</a>\u001b[0m \u001b[39mexcept\u001b[39;00m \u001b[39mException\u001b[39;00m: \n\u001b[1;32m---> <a href='vscode-notebook-cell:/g%3A/My%20Drive/Sonstiges/Projects/Battleship-AI/gameboard/board.ipynb#W6sZmlsZQ%3D%3D?line=23'>24</a>\u001b[0m     \u001b[39mraise\u001b[39;00m \u001b[39mValueError\u001b[39;00m(\u001b[39m\"\u001b[39m\u001b[39mShip coordinates are not compatible coordinates within the board!\u001b[39m\u001b[39m\"\u001b[39m) \n\u001b[0;32m     <a href='vscode-notebook-cell:/g%3A/My%20Drive/Sonstiges/Projects/Battleship-AI/gameboard/board.ipynb#W6sZmlsZQ%3D%3D?line=25'>26</a>\u001b[0m \u001b[39m# Check for border adherence \u001b[39;00m\n\u001b[0;32m     <a href='vscode-notebook-cell:/g%3A/My%20Drive/Sonstiges/Projects/Battleship-AI/gameboard/board.ipynb#W6sZmlsZQ%3D%3D?line=26'>27</a>\u001b[0m \u001b[39mtry\u001b[39;00m:\n",
      "\u001b[1;31mValueError\u001b[0m: Ship coordinates are not compatible coordinates within the board!"
     ]
    }
   ],
   "source": [
    "board = create_board(5)\n",
    "\n",
    "ships = list() \n",
    "ship_1 = {\"x\": 0, \"y\": 0, \"length\": 3, \"vertical\": True} \n",
    "ship_2 = {\"x\": 1, \"y\": 1, \"length\": 2, \"vertical\": False}\n",
    "ship_3 = {\"x\": 2, \"y\": 3, \"length\": 4, \"vertical\": True} \n",
    "ship_4 = {\"x\": 0, \"y\": 0, \"length\": 3, \"vertical\": True} \n",
    "ship_5 = {\"x\": -1, \"y\": 0, \"length\": 3, \"vertical\": True} \n",
    "ship_6 = {\"x\": 0.5, \"y\": 0, \"length\": 3, \"vertical\": True} \n",
    "\n",
    "ships.append(ship_1) # Should work \n",
    "ships.append(ship_2) # Should work\n",
    "ships.append(ship_3) # Raise ValueError (borders)\n",
    "ships.append(ship_4) # Raise ValueError (overlapping)\n",
    "ships.append(ship_5) # Raise ValueError (coordinates)\n",
    "ships.append(ship_6) # Raise ValueError (coordinates)\n",
    "\n",
    "place_ships(board, ships)\n"
   ]
  }
 ],
 "metadata": {
  "kernelspec": {
   "display_name": ".venv",
   "language": "python",
   "name": "python3"
  },
  "language_info": {
   "codemirror_mode": {
    "name": "ipython",
    "version": 3
   },
   "file_extension": ".py",
   "mimetype": "text/x-python",
   "name": "python",
   "nbconvert_exporter": "python",
   "pygments_lexer": "ipython3",
   "version": "3.11.0"
  }
 },
 "nbformat": 4,
 "nbformat_minor": 2
}
