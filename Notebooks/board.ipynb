{
 "cells": [
  {
   "cell_type": "code",
   "execution_count": 196,
   "metadata": {},
   "outputs": [],
   "source": [
    "import numpy as np\n",
    "import pandas as pd\n",
    "\n",
    "import logging "
   ]
  },
  {
   "cell_type": "code",
   "execution_count": 2,
   "metadata": {},
   "outputs": [
    {
     "data": {
      "text/plain": [
       "0"
      ]
     },
     "execution_count": 2,
     "metadata": {},
     "output_type": "execute_result"
    }
   ],
   "source": [
    "b = True \n",
    "2 * (not b) "
   ]
  },
  {
   "cell_type": "markdown",
   "metadata": {},
   "source": [
    "# Storage"
   ]
  },
  {
   "cell_type": "code",
   "execution_count": 197,
   "metadata": {},
   "outputs": [],
   "source": [
    "# TODO: Name the columns by letters -> Transfrom numpy array t pandas \n",
    "class Board(): \n",
    "\n",
    "    def __init__(self, board_length, ships):\n",
    "        self._board_length = board_length \n",
    "        self._board_field = np.zeros((board_length, board_length), dtype=bool) \n",
    "        for ship in ships:\n",
    "            col = ship[\"col\"]\n",
    "            row = ship[\"row\"]\n",
    "            ship_length = ship[\"length\"] \n",
    "            vertical = ship[\"vertical\"]\n",
    "\n",
    "            ########################### \n",
    "            #### Verify game rules ####\n",
    "            ###########################\n",
    "            # TODO: Create an own Exception class for each error \n",
    "\n",
    "            # Check basic coordinate compatibility \n",
    "            try:\n",
    "                assert type(col) == int\n",
    "                assert type(row) == int \n",
    "                assert col in range(board_length)\n",
    "                assert row in range(board_length)\n",
    "            except Exception: \n",
    "                raise ValueError(\"Ship coordinates are not compatible coordinates within the board!\") \n",
    "\n",
    "            # Check for border adherence \n",
    "            try:\n",
    "                max_extend = (col + ship_length) * vertical + (row + ship_length) * (1 - vertical) - 1\n",
    "                assert max_extend < board_length\n",
    "            except Exception:\n",
    "                raise ValueError(\"Ship coordinates and length do not confine with the board!\")\n",
    "\n",
    "            # Check for overlapping \n",
    "            board_update = np.zeros_like(self._board_field) \n",
    "            if vertical:\n",
    "                board_update[row, col:(col + ship_length)] = 1\n",
    "            else:\n",
    "                board_update[row:(row + ship_length), col] = 1 \n",
    "\n",
    "            try: \n",
    "                assert ~np.any(self._board_field & board_update)\n",
    "            except Exception:\n",
    "                raise ValueError(\"Ship overlaps with another ship!\")\n",
    "            \n",
    "            # Check for boat touching \n",
    "            col_lower = max(0, col - 1)\n",
    "            row_lower = max(0, row - 1)\n",
    "            if vertical:\n",
    "                col_upper = min(board_length, col + ship_length + 1)\n",
    "                row_upper = min(board_length, row + 1) \n",
    "            else:\n",
    "                col_upper = min(board_length, col + 1)\n",
    "                row_upper = min(board_length, row + ship_length + 1)   \n",
    "                \n",
    "            update_borders = np.zeros_like(self._board_field)\n",
    "            update_borders[row_lower:row_upper, col_lower:col_upper] = 1\n",
    "            \n",
    "            try:\n",
    "                assert ~np.any(self._board_field & update_borders)\n",
    "            except Exception:\n",
    "                raise ValueError(\"Ship touches other ship!\")\n",
    "            \n",
    "            # Place ship \n",
    "            self._board_field = self._board_field + board_update \n",
    "        \n",
    "    def __str__(self): \n",
    "        return \"Board with ships/n\" + str(self._board_field)\n",
    "    \n",
    "    @property\n",
    "    def board_length(self):\n",
    "        return np.copy(self._board_length) \n",
    "    \n",
    "    # TODO: This should not be accessible/give back the field, except for test purposes \n",
    "    @property\n",
    "    def board_field(self):\n",
    "        print(\"This is for Test purposes only!\")\n",
    "        return np.copy(self._board_field) \n",
    "\n",
    "    def dimensions(self):\n",
    "        return self._board_field.shape \n",
    "    \n",
    "    def game_finished(self, board_status):\n",
    "        return np.sum(self._board_field) == np.sum(self._board_field & board_status)\n",
    "    \n",
    "    def hit(self, row, col):\n",
    "        return self._board_field[row, col] "
   ]
  },
  {
   "cell_type": "markdown",
   "metadata": {},
   "source": [
    "## Test board"
   ]
  },
  {
   "cell_type": "code",
   "execution_count": 198,
   "metadata": {},
   "outputs": [],
   "source": [
    "ships = list() \n",
    "ship_1 = {\"col\": 0, \"row\": 0, \"length\": 3, \"vertical\": True} \n",
    "ship_2 = {\"col\": 2, \"row\": 1, \"length\": 2, \"vertical\": False}\n",
    "ship_3 = {\"col\": 2, \"row\": 3, \"length\": 4, \"vertical\": True} \n",
    "ship_4 = {\"col\": 0, \"row\": 0, \"length\": 3, \"vertical\": True} \n",
    "ship_5 = {\"col\": -1, \"row\": 0, \"length\": 3, \"vertical\": True} \n",
    "ship_6 = {\"col\": 0.5, \"row\": 0, \"length\": 3, \"vertical\": True} \n",
    "\n",
    "ships.append(ship_1) # Should work \n",
    "# ships.append(ship_2) # Raise ValueError (Boat touching)\n",
    "# ships.append(ship_3) # Raise ValueError (borders)\n",
    "# ships.append(ship_4) # Raise ValueError (overlapping)\n",
    "# ships.append(ship_5) # Raise ValueError (coordinates)\n",
    "# ships.append(ship_6) # Raise ValueError (coordinates)\n",
    "\n",
    "board = Board(5, ships)\n"
   ]
  },
  {
   "cell_type": "markdown",
   "metadata": {},
   "source": [
    "# Gameplay interface "
   ]
  },
  {
   "cell_type": "markdown",
   "metadata": {},
   "source": [
    "## Agents"
   ]
  },
  {
   "cell_type": "code",
   "execution_count": 199,
   "metadata": {},
   "outputs": [],
   "source": [
    "class Agent():\n",
    "    def __init__(self, board):\n",
    "        self.board = board \n",
    "        self.length = board.board_length\n",
    "        self._board_status = np.zeros((self.length, self.length), dtype=bool)\n",
    "        \n",
    "    def guess(self, row, col):\n",
    "        self._board_status[row, col] = self.board.hit(row, col) \n",
    "\n",
    "    @property \n",
    "    def board_status(self):\n",
    "        return np.copy(self._board_status)\n",
    "\n",
    "    def next_move(self):\n",
    "        raise Exception(\"The function 'next_move()' is not implemented for this type of class Agent!\")\n",
    "    \n",
    "    "
   ]
  },
  {
   "cell_type": "markdown",
   "metadata": {},
   "source": [
    "### Naive Agent "
   ]
  },
  {
   "cell_type": "code",
   "execution_count": 200,
   "metadata": {},
   "outputs": [],
   "source": [
    "def convert_index(board_length, index):\n",
    "    row = index // board_length \n",
    "    col = index % board_length \n",
    "    return (row, col) \n",
    "\n",
    "class Naive(Agent):\n",
    "    def __init__(self, *args):\n",
    "        super().__init__(*args) \n",
    "        self.moves = np.arange(self.board_status.size)\n",
    "        np.random.shuffle(self.moves)\n",
    "        self.current_index = 0\n",
    "    \n",
    "    def next_move(self):\n",
    "        index =  self.moves[self.current_index] \n",
    "        coordinates = convert_index(self.length, index)\n",
    "        self.guess(*coordinates) \n",
    "        self.current_index += 1 \n",
    "        return coordinates "
   ]
  },
  {
   "cell_type": "markdown",
   "metadata": {},
   "source": [
    "### Bayes Agent"
   ]
  },
  {
   "cell_type": "code",
   "execution_count": null,
   "metadata": {},
   "outputs": [],
   "source": []
  },
  {
   "cell_type": "markdown",
   "metadata": {},
   "source": [
    "### Reinforcement Agent "
   ]
  },
  {
   "cell_type": "code",
   "execution_count": null,
   "metadata": {},
   "outputs": [],
   "source": []
  },
  {
   "cell_type": "markdown",
   "metadata": {},
   "source": [
    "## Game"
   ]
  },
  {
   "cell_type": "code",
   "execution_count": 203,
   "metadata": {},
   "outputs": [],
   "source": [
    "def game(board_length, ships, Agent=\"Naive\"): \n",
    "    board = Board(board_length, ships) \n",
    "    if Agent == \"Naive\": \n",
    "        agent = Naive(board) \n",
    "    else:\n",
    "        raise Exception(\"Unknown Agent type\")\n",
    "    \n",
    "    moves = list() \n",
    "    while ~board.game_finished(agent.board_status): \n",
    "        moves.append(agent.next_move())\n",
    "\n",
    "    rounds = len(moves)\n",
    "    num_cells = np.prod(board.dimensions()) \n",
    "    # num_ships = \n",
    "    print(f\"Game finished after {rounds} rounds!\") \n",
    "    print(f\"Summary statistics: \\n -> {rounds / num_cells}% of all fields were unveiled\") \n",
    "    # print(f\"/n -> {}% of all guesses were a hit.\")\n",
    "\n",
    "    return (rounds, moves) "
   ]
  },
  {
   "cell_type": "markdown",
   "metadata": {},
   "source": [
    "## Test gameplay"
   ]
  },
  {
   "cell_type": "code",
   "execution_count": 224,
   "metadata": {},
   "outputs": [
    {
     "name": "stdout",
     "output_type": "stream",
     "text": [
      "Game finished after 95 rounds!\n",
      "Summary statistics: \n",
      " -> 0.95% of all fields were unveiled\n"
     ]
    }
   ],
   "source": [
    "board_length = 10\n",
    "ships = list() \n",
    "ship_1 = {\"col\": 0, \"row\": 0, \"length\": 3, \"vertical\": True} \n",
    "ship_2 = {\"col\": 2, \"row\": 2, \"length\": 2, \"vertical\": False}\n",
    "ship_3 = {\"col\": 5, \"row\": 7, \"length\": 4, \"vertical\": True} \n",
    "ship_4 = {\"col\": 0, \"row\": 0, \"length\": 3, \"vertical\": True} \n",
    "ship_5 = {\"col\": -1, \"row\": 0, \"length\": 3, \"vertical\": True} \n",
    "ship_6 = {\"col\": 0.5, \"row\": 0, \"length\": 3, \"vertical\": True} \n",
    "\n",
    "ships.append(ship_1) # Should work \n",
    "ships.append(ship_2) # Raise ValueError (Boat touching)\n",
    "ships.append(ship_3) # Raise ValueError (borders)\n",
    "# ships.append(ship_4) # Raise ValueError (overlapping)\n",
    "# ships.append(ship_5) # Raise ValueError (coordinates)\n",
    "# ships.append(ship_6) # Raise ValueError (coordinates)\n",
    "\n",
    "moves = game(board_length, ships) \n",
    "\n",
    "# TODO: Benchmark for hitrate "
   ]
  }
 ],
 "metadata": {
  "kernelspec": {
   "display_name": ".venv",
   "language": "python",
   "name": "python3"
  },
  "language_info": {
   "codemirror_mode": {
    "name": "ipython",
    "version": 3
   },
   "file_extension": ".py",
   "mimetype": "text/x-python",
   "name": "python",
   "nbconvert_exporter": "python",
   "pygments_lexer": "ipython3",
   "version": "3.11.0"
  }
 },
 "nbformat": 4,
 "nbformat_minor": 2
}
