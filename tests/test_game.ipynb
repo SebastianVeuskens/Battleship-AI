{
 "cells": [
  {
   "cell_type": "code",
   "execution_count": 1,
   "metadata": {},
   "outputs": [
    {
     "name": "stdout",
     "output_type": "stream",
     "text": [
      "Game finished after 96 rounds!\n",
      "Summary statistics: \n",
      " -> 96.0% of all fields were unveiled\n"
     ]
    }
   ],
   "source": [
    "import sys \n",
    "sys.path.append('G:/My Drive/Sonstiges/Projects/Battleship-AI')\n",
    "from environment import Board\n",
    "from agents import Naive \n",
    "from game import game \n",
    "\n",
    "board_length = 10 \n",
    "ship_lengths = [1, 2, 2, 3, 4, 5]\n",
    "number_of_games = 1\n",
    "\n",
    "display_board = True\n",
    "print_move = False\n",
    "summary = True\n",
    "\n",
    "for _ in range(number_of_games):\n",
    "    game(board_length, display = display_board, print_move = print_move, ship_lengths = ship_lengths, summary=summary)"
   ]
  },
  {
   "cell_type": "code",
   "execution_count": 1,
   "metadata": {},
   "outputs": [],
   "source": [
    "import pytest"
   ]
  }
 ],
 "metadata": {
  "kernelspec": {
   "display_name": ".venv",
   "language": "python",
   "name": "python3"
  },
  "language_info": {
   "codemirror_mode": {
    "name": "ipython",
    "version": 3
   },
   "file_extension": ".py",
   "mimetype": "text/x-python",
   "name": "python",
   "nbconvert_exporter": "python",
   "pygments_lexer": "ipython3",
   "version": "3.11.0"
  }
 },
 "nbformat": 4,
 "nbformat_minor": 2
}
